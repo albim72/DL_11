{
  "nbformat": 4,
  "nbformat_minor": 0,
  "metadata": {
    "colab": {
      "provenance": [],
      "authorship_tag": "ABX9TyPFkQifY+YsBZt4AT3uVCXk",
      "include_colab_link": true
    },
    "kernelspec": {
      "name": "python3",
      "display_name": "Python 3"
    },
    "language_info": {
      "name": "python"
    }
  },
  "cells": [
    {
      "cell_type": "markdown",
      "metadata": {
        "id": "view-in-github",
        "colab_type": "text"
      },
      "source": [
        "<a href=\"https://colab.research.google.com/github/albim72/DL_11/blob/main/Overfit_and_Underfit_tiny.ipynb\" target=\"_parent\"><img src=\"https://colab.research.google.com/assets/colab-badge.svg\" alt=\"Open In Colab\"/></a>"
      ]
    },
    {
      "cell_type": "code",
      "execution_count": 2,
      "metadata": {
        "id": "3fJtB0BZm7-4"
      },
      "outputs": [],
      "source": [
        "import tensorflow as tf\n",
        "from tensorflow.keras import layers\n",
        "from tensorflow.keras import regularizers"
      ]
    },
    {
      "cell_type": "code",
      "source": [
        "!pip install git+https://github.com/tensorflow/docs"
      ],
      "metadata": {
        "colab": {
          "base_uri": "https://localhost:8080/"
        },
        "id": "K6wNMrZBn0I_",
        "outputId": "a89f21db-9de3-4b0d-d2e6-4922fd0845eb"
      },
      "execution_count": 4,
      "outputs": [
        {
          "output_type": "stream",
          "name": "stdout",
          "text": [
            "Collecting git+https://github.com/tensorflow/docs\n",
            "  Cloning https://github.com/tensorflow/docs to /tmp/pip-req-build-9lktaqs1\n",
            "  Running command git clone --filter=blob:none --quiet https://github.com/tensorflow/docs /tmp/pip-req-build-9lktaqs1\n",
            "  Resolved https://github.com/tensorflow/docs to commit 60abeb06e500fa5edbbac374fc0d8142c8322aef\n",
            "  Preparing metadata (setup.py) ... \u001b[?25l\u001b[?25hdone\n",
            "Requirement already satisfied: astor in /usr/local/lib/python3.10/dist-packages (from tensorflow-docs==2023.10.27.81990) (0.8.1)\n",
            "Requirement already satisfied: absl-py in /usr/local/lib/python3.10/dist-packages (from tensorflow-docs==2023.10.27.81990) (1.4.0)\n",
            "Requirement already satisfied: jinja2 in /usr/local/lib/python3.10/dist-packages (from tensorflow-docs==2023.10.27.81990) (3.1.2)\n",
            "Requirement already satisfied: nbformat in /usr/local/lib/python3.10/dist-packages (from tensorflow-docs==2023.10.27.81990) (5.9.2)\n",
            "Requirement already satisfied: protobuf>=3.12 in /usr/local/lib/python3.10/dist-packages (from tensorflow-docs==2023.10.27.81990) (3.20.3)\n",
            "Requirement already satisfied: pyyaml in /usr/local/lib/python3.10/dist-packages (from tensorflow-docs==2023.10.27.81990) (6.0.1)\n",
            "Requirement already satisfied: MarkupSafe>=2.0 in /usr/local/lib/python3.10/dist-packages (from jinja2->tensorflow-docs==2023.10.27.81990) (2.1.3)\n",
            "Requirement already satisfied: fastjsonschema in /usr/local/lib/python3.10/dist-packages (from nbformat->tensorflow-docs==2023.10.27.81990) (2.18.1)\n",
            "Requirement already satisfied: jsonschema>=2.6 in /usr/local/lib/python3.10/dist-packages (from nbformat->tensorflow-docs==2023.10.27.81990) (4.19.2)\n",
            "Requirement already satisfied: jupyter-core in /usr/local/lib/python3.10/dist-packages (from nbformat->tensorflow-docs==2023.10.27.81990) (5.5.0)\n",
            "Requirement already satisfied: traitlets>=5.1 in /usr/local/lib/python3.10/dist-packages (from nbformat->tensorflow-docs==2023.10.27.81990) (5.7.1)\n",
            "Requirement already satisfied: attrs>=22.2.0 in /usr/local/lib/python3.10/dist-packages (from jsonschema>=2.6->nbformat->tensorflow-docs==2023.10.27.81990) (23.1.0)\n",
            "Requirement already satisfied: jsonschema-specifications>=2023.03.6 in /usr/local/lib/python3.10/dist-packages (from jsonschema>=2.6->nbformat->tensorflow-docs==2023.10.27.81990) (2023.7.1)\n",
            "Requirement already satisfied: referencing>=0.28.4 in /usr/local/lib/python3.10/dist-packages (from jsonschema>=2.6->nbformat->tensorflow-docs==2023.10.27.81990) (0.30.2)\n",
            "Requirement already satisfied: rpds-py>=0.7.1 in /usr/local/lib/python3.10/dist-packages (from jsonschema>=2.6->nbformat->tensorflow-docs==2023.10.27.81990) (0.12.0)\n",
            "Requirement already satisfied: platformdirs>=2.5 in /usr/local/lib/python3.10/dist-packages (from jupyter-core->nbformat->tensorflow-docs==2023.10.27.81990) (3.11.0)\n"
          ]
        }
      ]
    },
    {
      "cell_type": "code",
      "source": [
        "import tensorflow_docs as tfdocs\n",
        "import tensorflow_docs.modeling\n",
        "import tensorflow_docs.plots"
      ],
      "metadata": {
        "id": "GLFkqqD5oEf0"
      },
      "execution_count": 7,
      "outputs": []
    },
    {
      "cell_type": "code",
      "source": [
        "from matplotlib import pyplot as plt\n",
        "import numpy as np\n",
        "import pathlib\n",
        "import shutil\n",
        "import tempfile"
      ],
      "metadata": {
        "id": "QpL6uzfwswoi"
      },
      "execution_count": 8,
      "outputs": []
    },
    {
      "cell_type": "code",
      "source": [
        "logdir = pathlib.Path(tempfile.mkdtemp())/\"tensorboard_logs\"\n",
        "shutil.rmtree(logdir,ignore_errors=True)"
      ],
      "metadata": {
        "id": "dvh1zmTfs_ho"
      },
      "execution_count": 9,
      "outputs": []
    },
    {
      "cell_type": "markdown",
      "source": [
        "ZBIÓR DANYCH HIGGSA"
      ],
      "metadata": {
        "id": "AvCJZCgytwm9"
      }
    },
    {
      "cell_type": "code",
      "source": [
        "gz = tf.keras.utils.get_file('HIGGS.csv.gz','http://mlphysics.ics.uci.edu/data/higgs/HIGGS.csv.gz')"
      ],
      "metadata": {
        "colab": {
          "base_uri": "https://localhost:8080/"
        },
        "id": "mNJzSVhGt1cc",
        "outputId": "dee23ae7-86d8-4afa-ed20-b112f0df3022"
      },
      "execution_count": 10,
      "outputs": [
        {
          "output_type": "stream",
          "name": "stdout",
          "text": [
            "Downloading data from http://mlphysics.ics.uci.edu/data/higgs/HIGGS.csv.gz\n",
            "2816407858/2816407858 [==============================] - 440s 0us/step\n"
          ]
        }
      ]
    },
    {
      "cell_type": "code",
      "source": [
        "FEATURES = 28"
      ],
      "metadata": {
        "id": "DLkHDkiAu7SY"
      },
      "execution_count": 12,
      "outputs": []
    },
    {
      "cell_type": "code",
      "source": [
        "ds = tf.data.experimental.CsvDataset(gz,[float(),]*(FEATURES+1),compression_type=\"GZIP\")"
      ],
      "metadata": {
        "id": "OrpVcAnavBmN"
      },
      "execution_count": 13,
      "outputs": []
    },
    {
      "cell_type": "code",
      "source": [
        "def pack_row(*row):\n",
        "  label = row[0]\n",
        "  features = tf.stack(row[1:],1)\n",
        "  return features, label"
      ],
      "metadata": {
        "id": "j_n1C8RSvfs2"
      },
      "execution_count": 14,
      "outputs": []
    },
    {
      "cell_type": "code",
      "source": [
        "packed_ds = ds.batch(10000).map(pack_row).unbatch()"
      ],
      "metadata": {
        "id": "06keo-xjv4Cb"
      },
      "execution_count": 15,
      "outputs": []
    },
    {
      "cell_type": "code",
      "source": [
        "for features,label in packed_ds.batch(1000).take(1):\n",
        "  print(features[0])\n",
        "  plt.hist(features.numpy().flatten(), bins = 101)"
      ],
      "metadata": {
        "colab": {
          "base_uri": "https://localhost:8080/",
          "height": 536
        },
        "id": "kW-DK86lwXsP",
        "outputId": "5533395d-976c-4e11-bef0-2e0fdf76176f"
      },
      "execution_count": 16,
      "outputs": [
        {
          "output_type": "stream",
          "name": "stdout",
          "text": [
            "tf.Tensor(\n",
            "[ 0.8692932  -0.6350818   0.22569026  0.32747006 -0.6899932   0.75420225\n",
            " -0.24857314 -1.0920639   0.          1.3749921  -0.6536742   0.9303491\n",
            "  1.1074361   1.1389043  -1.5781983  -1.0469854   0.          0.65792954\n",
            " -0.01045457 -0.04576717  3.1019614   1.35376     0.9795631   0.97807616\n",
            "  0.92000484  0.72165745  0.98875093  0.87667835], shape=(28,), dtype=float32)\n"
          ]
        },
        {
          "output_type": "display_data",
          "data": {
            "text/plain": [
              "<Figure size 640x480 with 1 Axes>"
            ],
            "image/png": "[encoded data removed]"
          },
          "metadata": {}
        }
      ]
    },
    {
      "cell_type": "code",
      "source": [
        "N_VALIDATION = int(1e3)\n",
        "N_TRAIN = int(1e4)\n",
        "BUFFER_SIZE = int(1e4)\n",
        "BATCH_SIZE = 500\n",
        "STEPS_PER_EPOCH = N_TRAIN/BATCH_SIZE"
      ],
      "metadata": {
        "id": "6XeE2kLCxV47"
      },
      "execution_count": 18,
      "outputs": []
    },
    {
      "cell_type": "code",
      "source": [
        "validate_ds = packed_ds.take(N_VALIDATION).cache()\n",
        "train_ds = packed_ds.skip(N_VALIDATION).take(N_TRAIN).cache()"
      ],
      "metadata": {
        "id": "B9JCaFZmx7dq"
      },
      "execution_count": 19,
      "outputs": []
    },
    {
      "cell_type": "code",
      "source": [
        "train_ds"
      ],
      "metadata": {
        "colab": {
          "base_uri": "https://localhost:8080/"
        },
        "id": "NM2gRf7-yveX",
        "outputId": "8d07d8f0-eb39-42e5-ef76-1ab460b9bbf9"
      },
      "execution_count": 20,
      "outputs": [
        {
          "output_type": "execute_result",
          "data": {
            "text/plain": [
              "<CacheDataset element_spec=(TensorSpec(shape=(28,), dtype=tf.float32, name=None), TensorSpec(shape=(), dtype=tf.float32, name=None))>"
            ]
          },
          "metadata": {},
          "execution_count": 20
        }
      ]
    },
    {
      "cell_type": "code",
      "source": [
        "validate_ds = validate_ds.batch(BATCH_SIZE)\n",
        "train_ds = train_ds.shuffle(BUFFER_SIZE).repeat().batch(BATCH_SIZE)"
      ],
      "metadata": {
        "id": "mfloHyXPy4B7"
      },
      "execution_count": 21,
      "outputs": []
    },
    {
      "cell_type": "markdown",
      "source": [
        "PRZYGOTOWANIE MODELU DO PREZENTACJI OVERFITTINGU"
      ],
      "metadata": {
        "id": "G4FJF64K0E49"
      }
    },
    {
      "cell_type": "code",
      "source": [
        "lr_schedule = tf.keras.optimizers.schedules.InverseTimeDecay(\n",
        "    0.001,\n",
        "    decay_steps = STEPS_PER_EPOCH*1000,\n",
        "    decay_rate = 1,\n",
        "    staircase=False\n",
        ")\n",
        "\n",
        "def get_optimizer():\n",
        "  return tf.keras.optimizers.Adam(lr_schedule)"
      ],
      "metadata": {
        "id": "iqatQrcgzuJ9"
      },
      "execution_count": 24,
      "outputs": []
    },
    {
      "cell_type": "code",
      "source": [
        "step = np.linspace(0,100_000)\n",
        "lr = lr_schedule(step)\n",
        "plt.figure(figsize=(8,6))\n",
        "plt.plot(step/STEPS_PER_EPOCH,lr)\n",
        "plt.ylim([0,max(plt.ylim())])\n",
        "plt.xlabel('Epoch')\n",
        "_ = plt.ylabel('Learning Rate')"
      ],
      "metadata": {
        "colab": {
          "base_uri": "https://localhost:8080/",
          "height": 542
        },
        "id": "gEsy_fty10-_",
        "outputId": "48627697-b40b-44ad-9267-62be50bc621d"
      },
      "execution_count": 26,
      "outputs": [
        {
          "output_type": "display_data",
          "data": {
            "text/plain": [
              "<Figure size 800x600 with 1 Axes>"
            ],
            "image/png": "[encoded data removed]"
          },
          "metadata": {}
        }
      ]
    },
    {
      "cell_type": "code",
      "source": [
        "def get_callbacks(name):\n",
        "  return [\n",
        "      tfdocs.modeling.EpochDots(),\n",
        "      tf.keras.callbacks.EarlyStopping(monitor='val_binary_crossentropy', patience=200),\n",
        "      tf.keras.callbacks.TensorBoard(logdir/name),\n",
        "  ]"
      ],
      "metadata": {
        "id": "zfxAKF5p24G4"
      },
      "execution_count": 35,
      "outputs": []
    },
    {
      "cell_type": "code",
      "source": [
        "def compile_and_fit(model,name,optimizer=None,max_epochs = 10000):\n",
        "  if optimizer is None:\n",
        "    optimizer = get_optimizer()\n",
        "  model.compile(optimizer = optimizer,\n",
        "                loss=tf.keras.losses.BinaryCrossentropy(from_logits=True),\n",
        "                metrics=[\n",
        "                    tf.keras.losses.BinaryCrossentropy(\n",
        "                        from_logits=True, name='binary_crossentropy'\n",
        "                    ),'accuracy'\n",
        "                ])\n",
        "  model.summary()\n",
        "  history = model.fit(\n",
        "      train_ds,\n",
        "      steps_per_epoch = STEPS_PER_EPOCH,\n",
        "      epochs = max_epochs,\n",
        "      validation_data = validate_ds,\n",
        "      callbacks = get_callbacks(name),\n",
        "      verbose=0\n",
        "  )\n",
        "  return history"
      ],
      "metadata": {
        "id": "XlZ0X_Jv3gqT"
      },
      "execution_count": 41,
      "outputs": []
    },
    {
      "cell_type": "markdown",
      "source": [
        "BARDZO MAŁY MODEL -> tiny"
      ],
      "metadata": {
        "id": "9UkRe3Cs5OGz"
      }
    },
    {
      "cell_type": "code",
      "source": [
        "from keras.src.metrics.confusion_metrics import activations\n",
        "tiny_model = tf.keras.Sequential([\n",
        "    layers.Dense(16,activation='elu',input_shape=(FEATURES,)),\n",
        "    layers.Dense(1)\n",
        "])"
      ],
      "metadata": {
        "id": "Xjbjaq-q5EXO"
      },
      "execution_count": 45,
      "outputs": []
    },
    {
      "cell_type": "code",
      "source": [
        "size_histories = {}"
      ],
      "metadata": {
        "id": "AtzHQn8u5qoV"
      },
      "execution_count": 43,
      "outputs": []
    },
    {
      "cell_type": "code",
      "source": [
        "size_histories['Tiny'] = compile_and_fit(tiny_model,'sizes/Tiny')"
      ],
      "metadata": {
        "colab": {
          "base_uri": "https://localhost:8080/"
        },
        "id": "EE9ch7GL5vVJ",
        "outputId": "5672cb89-e9e7-4713-bfd7-b5709508d751"
      },
      "execution_count": 44,
      "outputs": [
        {
          "output_type": "stream",
          "name": "stdout",
          "text": [
            "Model: \"sequential_1\"\n",
            "_________________________________________________________________\n",
            " Layer (type)                Output Shape              Param #   \n",
            "=================================================================\n",
            " dense_2 (Dense)             (None, 16)                464       \n",
            "                                                                 \n",
            " dense_3 (Dense)             (None, 1)                 17        \n",
            "                                                                 \n",
            "=================================================================\n",
            "Total params: 481 (1.88 KB)\n",
            "Trainable params: 481 (1.88 KB)\n",
            "Non-trainable params: 0 (0.00 Byte)\n",
            "_________________________________________________________________\n",
            "\n",
            "Epoch: 0, accuracy:0.4788,  binary_crossentropy:0.7406,  loss:0.7406,  val_accuracy:0.4870,  val_binary_crossentropy:0.7067,  val_loss:0.7067,  \n",
            "....................................................................................................\n",
            "Epoch: 100, accuracy:0.5957,  binary_crossentropy:0.6274,  loss:0.6274,  val_accuracy:0.5820,  val_binary_crossentropy:0.6272,  val_loss:0.6272,  \n",
            "....................................................................................................\n",
            "Epoch: 200, accuracy:0.6213,  binary_crossentropy:0.6149,  loss:0.6149,  val_accuracy:0.6080,  val_binary_crossentropy:0.6176,  val_loss:0.6176,  \n",
            "....................................................................................................\n",
            "Epoch: 300, accuracy:0.6365,  binary_crossentropy:0.6053,  loss:0.6053,  val_accuracy:0.6280,  val_binary_crossentropy:0.6082,  val_loss:0.6082,  \n",
            "....................................................................................................\n",
            "Epoch: 400, accuracy:0.6439,  binary_crossentropy:0.5979,  loss:0.5979,  val_accuracy:0.6530,  val_binary_crossentropy:0.5994,  val_loss:0.5994,  \n",
            "....................................................................................................\n",
            "Epoch: 500, accuracy:0.6539,  binary_crossentropy:0.5925,  loss:0.5925,  val_accuracy:0.6610,  val_binary_crossentropy:0.5944,  val_loss:0.5944,  \n",
            "....................................................................................................\n",
            "Epoch: 600, accuracy:0.6588,  binary_crossentropy:0.5880,  loss:0.5880,  val_accuracy:0.6570,  val_binary_crossentropy:0.5906,  val_loss:0.5906,  \n",
            "....................................................................................................\n",
            "Epoch: 700, accuracy:0.6677,  binary_crossentropy:0.5845,  loss:0.5845,  val_accuracy:0.6470,  val_binary_crossentropy:0.5909,  val_loss:0.5909,  \n",
            "....................................................................................................\n",
            "Epoch: 800, accuracy:0.6698,  binary_crossentropy:0.5814,  loss:0.5814,  val_accuracy:0.6630,  val_binary_crossentropy:0.5856,  val_loss:0.5856,  \n",
            "....................................................................................................\n",
            "Epoch: 900, accuracy:0.6687,  binary_crossentropy:0.5793,  loss:0.5793,  val_accuracy:0.6530,  val_binary_crossentropy:0.5859,  val_loss:0.5859,  \n",
            "....................................................................................................\n",
            "Epoch: 1000, accuracy:0.6715,  binary_crossentropy:0.5772,  loss:0.5772,  val_accuracy:0.6500,  val_binary_crossentropy:0.5842,  val_loss:0.5842,  \n",
            "....................................................................................................\n",
            "Epoch: 1100, accuracy:0.6740,  binary_crossentropy:0.5755,  loss:0.5755,  val_accuracy:0.6490,  val_binary_crossentropy:0.5844,  val_loss:0.5844,  \n",
            "....................................................................................................\n",
            "Epoch: 1200, accuracy:0.6732,  binary_crossentropy:0.5734,  loss:0.5734,  val_accuracy:0.6580,  val_binary_crossentropy:0.5805,  val_loss:0.5805,  \n",
            "....................................................................................................\n",
            "Epoch: 1300, accuracy:0.6742,  binary_crossentropy:0.5720,  loss:0.5720,  val_accuracy:0.6620,  val_binary_crossentropy:0.5799,  val_loss:0.5799,  \n",
            "....................................................................................................\n",
            "Epoch: 1400, accuracy:0.6762,  binary_crossentropy:0.5706,  loss:0.5706,  val_accuracy:0.6580,  val_binary_crossentropy:0.5807,  val_loss:0.5807,  \n",
            "....................................................................................................\n",
            "Epoch: 1500, accuracy:0.6772,  binary_crossentropy:0.5695,  loss:0.5695,  val_accuracy:0.6650,  val_binary_crossentropy:0.5791,  val_loss:0.5791,  \n",
            "....................................................................................................\n",
            "Epoch: 1600, accuracy:0.6744,  binary_crossentropy:0.5685,  loss:0.5685,  val_accuracy:0.6620,  val_binary_crossentropy:0.5790,  val_loss:0.5790,  \n",
            "....................................................................................................\n",
            "Epoch: 1700, accuracy:0.6814,  binary_crossentropy:0.5673,  loss:0.5673,  val_accuracy:0.6510,  val_binary_crossentropy:0.5817,  val_loss:0.5817,  \n",
            "........................................................................."
          ]
        }
      ]
    },
    {
      "cell_type": "code",
      "source": [
        "print(size_histories)"
      ],
      "metadata": {
        "colab": {
          "base_uri": "https://localhost:8080/"
        },
        "id": "E7aAQ09I8YSr",
        "outputId": "4d09e17f-e918-48ff-912a-ce400aa9d38c"
      },
      "execution_count": 46,
      "outputs": [
        {
          "output_type": "stream",
          "name": "stdout",
          "text": [
            "{'Tiny': <keras.src.callbacks.History object at 0x7a89d8a6c1c0>}\n"
          ]
        }
      ]
    },
    {
      "cell_type": "code",
      "source": [
        "plotter = tfdocs.plots.HistoryPlotter(metric='binary_crossentropy',smoothing_std = 10)\n",
        "plotter.plot(size_histories)\n",
        "# plt.ylim([0.5,0.7])"
      ],
      "metadata": {
        "colab": {
          "base_uri": "https://localhost:8080/",
          "height": 449
        },
        "id": "FgbmkrX56blh",
        "outputId": "ee8d4fb6-5b7d-4406-bf24-607beefef045"
      },
      "execution_count": 47,
      "outputs": [
        {
          "output_type": "display_data",
          "data": {
            "text/plain": [
              "<Figure size 640x480 with 1 Axes>"
            ],
            "image/png": "[encoded data removed]"
          },
          "metadata": {}
        }
      ]
    }
  ]
}